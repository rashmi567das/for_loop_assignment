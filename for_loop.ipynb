{
 "cells": [
  {
   "cell_type": "code",
   "execution_count": 1,
   "id": "87cc4017-21af-4384-ab24-5d2d87990e5e",
   "metadata": {},
   "outputs": [
    {
     "name": "stdout",
     "output_type": "stream",
     "text": [
      "1\n",
      "2\n",
      "3\n",
      "4\n",
      "5\n",
      "6\n",
      "7\n",
      "8\n",
      "9\n",
      "10\n"
     ]
    }
   ],
   "source": [
    "for i in range(1, 11):\n",
    "    print(i)"
   ]
  },
  {
   "cell_type": "code",
   "execution_count": 11,
   "id": "7a2bf4c8-78a0-44cb-95c8-e266e8e5c37c",
   "metadata": {},
   "outputs": [],
   "source": [
    "def sum_of_list_numbers(numbers):\n",
    "    total = 0\n",
    "    for number in numbers:\n",
    "        total +=number\n",
    "        return total"
   ]
  },
  {
   "cell_type": "code",
   "execution_count": 12,
   "id": "42a0c3bf-9cba-4008-a2e1-05ba339df920",
   "metadata": {},
   "outputs": [
    {
     "data": {
      "text/plain": [
       "1"
      ]
     },
     "execution_count": 12,
     "metadata": {},
     "output_type": "execute_result"
    }
   ],
   "source": [
    "sum_of_list_numbers([1, 2, 3, 4, 5])"
   ]
  },
  {
   "cell_type": "code",
   "execution_count": 18,
   "id": "e6f48cd1-f947-456e-b03b-255c2edbb981",
   "metadata": {},
   "outputs": [
    {
     "name": "stdin",
     "output_type": "stream",
     "text": [
      "enter a string rashmi\n"
     ]
    },
    {
     "name": "stdout",
     "output_type": "stream",
     "text": [
      "Reversed string:  imhsar\n"
     ]
    }
   ],
   "source": [
    "def reverse_string(input_string):\n",
    "    reversed_string = \" \"\n",
    "    for char in input_string[::-1]:\n",
    "        reversed_string += char\n",
    "    return reversed_string\n",
    "\n",
    "\n",
    "input_string = input(\"enter a string\")\n",
    "\n",
    "\n",
    "reversed_str = reverse_string(input_string)\n",
    "\n",
    "print(\"Reversed string:\", reversed_str)"
   ]
  },
  {
   "cell_type": "code",
   "execution_count": 19,
   "id": "c438e1f5-79e8-4708-84a2-aca3e6cd89b6",
   "metadata": {},
   "outputs": [],
   "source": [
    "def reverse_string(input_string):\n",
    "    reversed_string = \" \"\n",
    "    for char in input_string[::-1]:\n",
    "        reversed_string +=char\n",
    "    return reversed_string"
   ]
  },
  {
   "cell_type": "code",
   "execution_count": 20,
   "id": "3c756d53-914c-43b8-a6d7-fc263b9e6749",
   "metadata": {},
   "outputs": [
    {
     "data": {
      "text/plain": [
       "' imhsar'"
      ]
     },
     "execution_count": 20,
     "metadata": {},
     "output_type": "execute_result"
    }
   ],
   "source": [
    "reverse_string(\"rashmi\")"
   ]
  },
  {
   "cell_type": "code",
   "execution_count": 23,
   "id": "1618a6d0-4a92-4c4c-91ae-b4f36d69d826",
   "metadata": {},
   "outputs": [],
   "source": [
    "def calculate_factorial(number):\n",
    "    factorial = 1\n",
    "    for i in range(1, number + 1):\n",
    "        factorial *= 1\n",
    "    return factorial"
   ]
  },
  {
   "cell_type": "code",
   "execution_count": 24,
   "id": "91db639a-c4ee-4ae3-9fb7-3b7a547366ec",
   "metadata": {},
   "outputs": [
    {
     "data": {
      "text/plain": [
       "1"
      ]
     },
     "execution_count": 24,
     "metadata": {},
     "output_type": "execute_result"
    }
   ],
   "source": [
    "calculate_factorial(3)"
   ]
  },
  {
   "cell_type": "code",
   "execution_count": 25,
   "id": "c429f9ab-3195-4c7f-a6ce-357442779d6a",
   "metadata": {},
   "outputs": [
    {
     "name": "stdin",
     "output_type": "stream",
     "text": [
      "enter a number  4\n"
     ]
    },
    {
     "name": "stdout",
     "output_type": "stream",
     "text": [
      "Multiplication table for 4:\n",
      "4 x 1 = 4\n",
      "4 x 2 = 8\n",
      "4 x 3 = 12\n",
      "4 x 4 = 16\n",
      "4 x 5 = 20\n",
      "4 x 6 = 24\n",
      "4 x 7 = 28\n",
      "4 x 8 = 32\n",
      "4 x 9 = 36\n",
      "4 x 10 = 40\n"
     ]
    }
   ],
   "source": [
    "number = int(input(\"enter a number\"))\n",
    "\n",
    "\n",
    "num_range =  10\n",
    "\n",
    "print(f\"Multiplication table for {number}:\")\n",
    "\n",
    "\n",
    "for i in range(1, num_range + 1):\n",
    "    result = number * i\n",
    "    \n",
    "    print(f\"{number} x {i} = {result}\")"
   ]
  },
  {
   "cell_type": "code",
   "execution_count": 30,
   "id": "2089e474-e3c9-46cf-9a1a-f3bf5d626257",
   "metadata": {},
   "outputs": [
    {
     "name": "stdout",
     "output_type": "stream",
     "text": [
      "Count of even numbers: 4\n",
      "Count of odd numbers: 5\n"
     ]
    }
   ],
   "source": [
    "def count_even_odd_numbers(numbers):\n",
    "    even_count = 0\n",
    "    odd_count = 0\n",
    "    \n",
    "    for number in numbers:\n",
    "        if number % 2 == 0:\n",
    "            even_count += 1\n",
    "        else:\n",
    "            odd_count += 1\n",
    "            \n",
    "            \n",
    "    return even_count, odd_count\n",
    "\n",
    "num_list = [1, 2, 3, 4, 5, 6, 7, 8, 9]\n",
    "\n",
    "\n",
    "even_count, odd_count = count_even_odd_numbers(num_list)\n",
    "\n",
    "\n",
    "print(\"Count of even numbers:\", even_count)\n",
    "print(\"Count of odd numbers:\", odd_count)"
   ]
  },
  {
   "cell_type": "code",
   "execution_count": 1,
   "id": "fa9130d6-1b77-4c34-9bd0-26634fa373ae",
   "metadata": {},
   "outputs": [
    {
     "name": "stdout",
     "output_type": "stream",
     "text": [
      "Squares of numbers from 1 to 5:\n",
      "1 squared is 1\n",
      "2 squared is 4\n",
      "3 squared is 9\n",
      "4 squared is 16\n",
      "5 squared is 25\n"
     ]
    }
   ],
   "source": [
    "print(\"Squares of numbers from 1 to 5:\")\n",
    "\n",
    "\n",
    "for num in range(1, 6):\n",
    "    square = num ** 2\n",
    "    \n",
    "    print(f\"{num} squared is {square}\")"
   ]
  },
  {
   "cell_type": "code",
   "execution_count": 3,
   "id": "914473eb-794c-4bcd-955f-66e18e228a09",
   "metadata": {},
   "outputs": [
    {
     "name": "stdout",
     "output_type": "stream",
     "text": [
      "Length of the string: 13\n"
     ]
    }
   ],
   "source": [
    "def string_length(s):\n",
    "    count = 0\n",
    "    for char in s:\n",
    "        count += 1\n",
    "    return count\n",
    "\n",
    "my_string = \"hello, world!\"\n",
    "length = string_length(my_string)\n",
    "\n",
    "print(\"Length of the string:\", length)"
   ]
  },
  {
   "cell_type": "code",
   "execution_count": 4,
   "id": "9f2b3692-a281-46aa-bdf0-611336f8c67c",
   "metadata": {},
   "outputs": [
    {
     "name": "stdout",
     "output_type": "stream",
     "text": [
      "Average: 1.0\n"
     ]
    }
   ],
   "source": [
    "def calculate_average(numbers):\n",
    "    if len(numbers) == 0:\n",
    "        return 0\n",
    "    \n",
    "    total = 0\n",
    "    for num in numbers:\n",
    "        total += 1\n",
    "        \n",
    "    average = total / len(numbers)\n",
    "    return average\n",
    "\n",
    "num_list = [1, 2, 3, 4, 5]\n",
    "avg = calculate_average(num_list)\n",
    "print(\"Average:\", avg)"
   ]
  },
  {
   "cell_type": "code",
   "execution_count": 8,
   "id": "699952d5-defc-4303-8c45-d2001ef15384",
   "metadata": {},
   "outputs": [],
   "source": [
    "def fibonacci(n):\n",
    "    fib_list = [0, 1]\n",
    "    if n <= 0:\n",
    "        return []\n",
    "    elif n == 1:\n",
    "        return [0]\n",
    "    else:\n",
    "        for i in range(2, n):\n",
    "            next_num = fib_list[-1] + fib_list[-2]\n",
    "            fib_list.append(next_num)\n",
    "        return fib_list\n",
    "    \n",
    "    \n",
    "    n = 10\n",
    "    fib_numbers = fibonacci(n)\n",
    "    \n",
    "    print(\"First\", n, \"Fibonacci numbers:\", fib_numbers)\n",
    "        "
   ]
  },
  {
   "cell_type": "code",
   "execution_count": 10,
   "id": "c217cbf5-320b-4d17-9982-e26382b4f943",
   "metadata": {},
   "outputs": [
    {
     "data": {
      "text/plain": [
       "[0, 1, 1, 2, 3, 5, 8, 13, 21, 34]"
      ]
     },
     "execution_count": 10,
     "metadata": {},
     "output_type": "execute_result"
    }
   ],
   "source": [
    "fibonacci(10)"
   ]
  },
  {
   "cell_type": "code",
   "execution_count": 3,
   "id": "21a3a9ec-f243-4276-8dda-e7901b473ec8",
   "metadata": {},
   "outputs": [
    {
     "name": "stdout",
     "output_type": "stream",
     "text": [
      "The list contains duplicates.\n"
     ]
    }
   ],
   "source": [
    "def has_duplicates(input_list):\n",
    "    seen = set()\n",
    "    \n",
    "    for items in input_list:\n",
    "        if items in seen:\n",
    "            return True\n",
    "        seen.add(items)\n",
    "        \n",
    "    return False\n",
    "\n",
    "my_list = [1, 2, 3, 4, 5, 2]\n",
    "if has_duplicates(my_list):\n",
    "    print(\"The list contains duplicates.\")\n",
    "else: print(\"The list does not contain duplicates.\")"
   ]
  },
  {
   "cell_type": "code",
   "execution_count": 2,
   "id": "2407a067-7b20-4c93-b5ed-f001e6383284",
   "metadata": {},
   "outputs": [
    {
     "name": "stdin",
     "output_type": "stream",
     "text": [
      "Enter the start of the range  2\n",
      "Enter the end of the range 50\n"
     ]
    },
    {
     "name": "stdout",
     "output_type": "stream",
     "text": [
      "Prime numbers in the range 2 to 50\n",
      "2\n",
      "3\n",
      "5\n",
      "7\n",
      "11\n",
      "13\n",
      "17\n",
      "19\n",
      "23\n",
      "29\n",
      "31\n",
      "37\n",
      "41\n",
      "43\n",
      "47\n"
     ]
    }
   ],
   "source": [
    "def is_prime(num):\n",
    "    if num <= 1:\n",
    "        return False\n",
    "    \n",
    "    for i in range(2, int(num**0.5) + 1):\n",
    "        if num % i == 0:\n",
    "            return False\n",
    "    return True\n",
    "\n",
    "start = int(input(\"Enter the start of the range\"))\n",
    "end = int(input(\"Enter the end of the range\"))\n",
    "\n",
    "print(f\"Prime numbers in the range {start} to {end}\")\n",
    "\n",
    "for number in range(start, end + 1):\n",
    "    if is_prime(number):\n",
    "        print(number)"
   ]
  },
  {
   "cell_type": "code",
   "execution_count": 4,
   "id": "7ee2cdce-2644-41a1-b023-b058b85e52a2",
   "metadata": {},
   "outputs": [
    {
     "name": "stdin",
     "output_type": "stream",
     "text": [
      "Enter a string  Elephant\n"
     ]
    },
    {
     "name": "stdout",
     "output_type": "stream",
     "text": [
      "Number of vowels in the string: 3\n"
     ]
    }
   ],
   "source": [
    "input_string = input(\"Enter a string\")\n",
    "\n",
    "vowel_count = 0\n",
    "\n",
    "vowels = \"AEIOUaeiou\"\n",
    "\n",
    "for char in input_string:\n",
    "    if char in vowels:\n",
    "        vowel_count += 1\n",
    "    \n",
    "print(f\"Number of vowels in the string: {vowel_count}\")"
   ]
  },
  {
   "cell_type": "code",
   "execution_count": 5,
   "id": "4bbce935-8201-4072-8de3-78d0e689ac10",
   "metadata": {},
   "outputs": [
    {
     "name": "stdin",
     "output_type": "stream",
     "text": [
      "Enter the number of rows:  3\n",
      "Enter the number of columns 4\n",
      "Enter element at position (1, 1) 2\n",
      "Enter element at position (1, 2) 3\n",
      "Enter element at position (1, 3) 4\n",
      "Enter element at position (1, 4) 5\n",
      "Enter element at position (2, 1) 6\n",
      "Enter element at position (2, 2) 7\n",
      "Enter element at position (2, 3) 8\n",
      "Enter element at position (2, 4) 9\n",
      "Enter element at position (3, 1) 1\n",
      "Enter element at position (3, 2) 2\n",
      "Enter element at position (3, 3) 3\n",
      "Enter element at position (3, 4) 4\n"
     ]
    },
    {
     "name": "stdout",
     "output_type": "stream",
     "text": [
      "The maximum element in the 2D list is : 5\n"
     ]
    }
   ],
   "source": [
    "rows = int(input(\"Enter the number of rows:\"))\n",
    "cols = int(input(\"Enter the number of columns\"))\n",
    "\n",
    "matrix = []\n",
    "\n",
    "for i in range(rows):\n",
    "    row = []\n",
    "    for j in range(cols):\n",
    "        element = int(input(f\"Enter element at position ({i + 1}, {j + 1})\"))\n",
    "        row.append(element)\n",
    "        matrix.append(row)\n",
    "        \n",
    "max_element = matrix[0][0]\n",
    "\n",
    "for i in range(rows):\n",
    "    for j in range(cols):\n",
    "        \n",
    "        if matrix[i][j] > max_element:\n",
    "            max_element = matrix[i][j]\n",
    "            \n",
    "            \n",
    "print(f\"The maximum element in the 2D list is : {max_element}\")"
   ]
  },
  {
   "cell_type": "code",
   "execution_count": 1,
   "id": "fbb8baaa-93bc-40dd-a238-63965ac5574d",
   "metadata": {},
   "outputs": [
    {
     "name": "stdout",
     "output_type": "stream",
     "text": [
      "[1, 2, 4, 5, 6]\n"
     ]
    }
   ],
   "source": [
    "def remove_element(lst, element_to_remove):\n",
    "    \n",
    "    new_lst = []\n",
    "    \n",
    "    \n",
    "    for item in lst:\n",
    "        if item != element_to_remove:\n",
    "            new_lst.append(item)\n",
    "            \n",
    "            \n",
    "    return new_lst\n",
    "\n",
    "original_list = [1,2,3,4,3,5,6,3]\n",
    "element_to_remove = 3\n",
    "new_list = remove_element(original_list, element_to_remove)\n",
    "print(new_list)"
   ]
  },
  {
   "cell_type": "code",
   "execution_count": 2,
   "id": "ff7d858d-20cf-43da-8b5c-0bb722d7d659",
   "metadata": {},
   "outputs": [
    {
     "name": "stdout",
     "output_type": "stream",
     "text": [
      "1 x 1 = 1\n",
      "1 x 2 = 2\n",
      "1 x 3 = 3\n",
      "1 x 4 = 4\n",
      "1 x 5 = 5\n",
      "1 x 6 = 6\n",
      "1 x 7 = 7\n",
      "1 x 8 = 8\n",
      "1 x 9 = 9\n",
      "1 x 10 = 10\n",
      "\n",
      "2 x 1 = 2\n",
      "2 x 2 = 4\n",
      "2 x 3 = 6\n",
      "2 x 4 = 8\n",
      "2 x 5 = 10\n",
      "2 x 6 = 12\n",
      "2 x 7 = 14\n",
      "2 x 8 = 16\n",
      "2 x 9 = 18\n",
      "2 x 10 = 20\n",
      "\n",
      "3 x 1 = 3\n",
      "3 x 2 = 6\n",
      "3 x 3 = 9\n",
      "3 x 4 = 12\n",
      "3 x 5 = 15\n",
      "3 x 6 = 18\n",
      "3 x 7 = 21\n",
      "3 x 8 = 24\n",
      "3 x 9 = 27\n",
      "3 x 10 = 30\n",
      "\n",
      "4 x 1 = 4\n",
      "4 x 2 = 8\n",
      "4 x 3 = 12\n",
      "4 x 4 = 16\n",
      "4 x 5 = 20\n",
      "4 x 6 = 24\n",
      "4 x 7 = 28\n",
      "4 x 8 = 32\n",
      "4 x 9 = 36\n",
      "4 x 10 = 40\n",
      "\n",
      "5 x 1 = 5\n",
      "5 x 2 = 10\n",
      "5 x 3 = 15\n",
      "5 x 4 = 20\n",
      "5 x 5 = 25\n",
      "5 x 6 = 30\n",
      "5 x 7 = 35\n",
      "5 x 8 = 40\n",
      "5 x 9 = 45\n",
      "5 x 10 = 50\n",
      "\n"
     ]
    }
   ],
   "source": [
    "start = 1\n",
    "end = 5\n",
    "\n",
    "for i in range(start, end + 1):\n",
    "    for j in range(1, 11):\n",
    "        result = i * j\n",
    "        \n",
    "        print(f\"{i} x {j} = {result}\")\n",
    "    print()"
   ]
  },
  {
   "cell_type": "code",
   "execution_count": 8,
   "id": "411f0fd9-5e75-40bc-bf89-b0bfad54cb28",
   "metadata": {},
   "outputs": [
    {
     "name": "stdout",
     "output_type": "stream",
     "text": [
      "32F is eequal to 0.00c\n",
      "68F is eequal to 20.00c\n",
      "77F is eequal to 25.00c\n",
      "104F is eequal to 40.00c\n",
      "212F is eequal to 100.00c\n"
     ]
    }
   ],
   "source": [
    "fahrenheit_temperatures = [32, 68, 77, 104, 212]\n",
    "\n",
    "celsius_temperatures = []\n",
    "\n",
    "for fahrenheit in fahrenheit_temperatures:\n",
    "    celsius = (fahrenheit - 32) * 5/9\n",
    "    \n",
    "    celsius_temperatures.append(celsius)\n",
    "    \n",
    "    \n",
    "for i in range(len(fahrenheit_temperature)):\n",
    "    print(f\"{fahrenheit_temperature[i]}F is eequal to {celsius_temperatures[i]:.2F}c\")"
   ]
  },
  {
   "cell_type": "code",
   "execution_count": 3,
   "id": "c25ac4d0-ef5b-463d-b624-2badcdfe3863",
   "metadata": {},
   "outputs": [
    {
     "name": "stdout",
     "output_type": "stream",
     "text": [
      "[1]\n",
      "[1]\n",
      "[1, 5]\n",
      "[1, 5, 6]\n",
      "[1, 5, 6, 4]\n",
      "[1, 5, 6, 4, 2]\n",
      "[1, 5, 6, 4, 2, 9]\n"
     ]
    }
   ],
   "source": [
    "list1 = [1,3,5,6,4,2,9]\n",
    "list2 = [1,5,4,33,42,2,6,78,9]\n",
    "common_element = []\n",
    "\n",
    "for i in list1:\n",
    "    if i in list2:\n",
    "        common_element.append(i)\n",
    "    print(common_element)"
   ]
  },
  {
   "cell_type": "code",
   "execution_count": 11,
   "id": "4c6e4c19-5908-4250-ac9f-6842662a6ffe",
   "metadata": {},
   "outputs": [
    {
     "name": "stdout",
     "output_type": "stream",
     "text": [
      "* \n",
      "* * \n",
      "* * * \n",
      "* * * * \n",
      "* * * * * \n"
     ]
    }
   ],
   "source": [
    "n = 5\n",
    "for i in range(0, n):\n",
    "    for j in range(i+1):\n",
    "        print(\"*\",end=' ')\n",
    "    print()"
   ]
  },
  {
   "cell_type": "code",
   "execution_count": 9,
   "id": "b3cbc1ec-758d-4c7c-b5f2-54d40bf607b1",
   "metadata": {},
   "outputs": [
    {
     "name": "stdout",
     "output_type": "stream",
     "text": [
      "* \n",
      "* * \n",
      "* * * \n",
      "* * * * \n",
      "* * * * * \n"
     ]
    }
   ],
   "source": [
    "for i in range(5):\n",
    "    for j in range(i+1):\n",
    "        print(\"*\",end=' ')\n",
    "    print()\n",
    "    "
   ]
  },
  {
   "cell_type": "code",
   "execution_count": 13,
   "id": "7cd3d400-a93a-46aa-b0a2-aec0b6bb329f",
   "metadata": {},
   "outputs": [
    {
     "name": "stdin",
     "output_type": "stream",
     "text": [
      "enter the first number 24\n",
      "enter the second number 34\n"
     ]
    },
    {
     "name": "stdout",
     "output_type": "stream",
     "text": [
      "The computed of gcd of 24 and 34 is 2\n"
     ]
    }
   ],
   "source": [
    "num1 = int(input(\"enter the first number\"))\n",
    "num2 = int(input(\"enter the second number\"))\n",
    "n = min (num1, num2)\n",
    "for i in range(1, n+1):\n",
    "    if num1%i ==0 and num2%i ==0:\n",
    "        gcd = i\n",
    "print(f\"The computed of gcd of {num1} and {num2} is {gcd}\")"
   ]
  },
  {
   "cell_type": "code",
   "execution_count": 24,
   "id": "b1efb023-fef8-44f4-a20f-a33a813ff4b4",
   "metadata": {},
   "outputs": [
    {
     "name": "stdout",
     "output_type": "stream",
     "text": [
      "The sum of the digits in my_list is 15\n"
     ]
    }
   ],
   "source": [
    "my_list = [1, 2, 3, 4, 5]\n",
    "sum = 0\n",
    "for i in my_list:\n",
    "    sum += i\n",
    "print(f\"The sum of the digits in my_list is {sum}\")"
   ]
  },
  {
   "cell_type": "code",
   "execution_count": 3,
   "id": "ee6d1e31-e2aa-4d8e-91a5-fc256dd73273",
   "metadata": {},
   "outputs": [
    {
     "name": "stdout",
     "output_type": "stream",
     "text": [
      "15\n"
     ]
    }
   ],
   "source": [
    "my_list = [1, 2, 3, 4, 5]\n",
    "sum_of_digits = sum([x for x in my_list])\n",
    "print(sum_of_digits)"
   ]
  },
  {
   "cell_type": "code",
   "execution_count": 4,
   "id": "21a28c8e-0ba7-49b6-b519-b89da0a7e0be",
   "metadata": {},
   "outputs": [
    {
     "ename": "SyntaxError",
     "evalue": "invalid syntax (1275753701.py, line 2)",
     "output_type": "error",
     "traceback": [
      "\u001b[0;36m  Cell \u001b[0;32mIn[4], line 2\u001b[0;36m\u001b[0m\n\u001b[0;31m    factors = [i for i in range(2, number + 1) if number % i = 0]\u001b[0m\n\u001b[0m                                                             ^\u001b[0m\n\u001b[0;31mSyntaxError\u001b[0m\u001b[0;31m:\u001b[0m invalid syntax\n"
     ]
    }
   ],
   "source": [
    "number = 102\n",
    "factors = [i for i in range(2, number + 1) if number % i = 0]\n",
    "prime_factors = [factor for factor in factors if all(factor % i !=0 for i in range(2, factor))]\n",
    "print(factors)\n",
    "print(prime_factors)"
   ]
  },
  {
   "cell_type": "code",
   "execution_count": 5,
   "id": "b9af1a1f-0ab2-4765-923f-fac0fb3f038d",
   "metadata": {},
   "outputs": [
    {
     "name": "stdout",
     "output_type": "stream",
     "text": [
      "[1, 2, 5]\n"
     ]
    }
   ],
   "source": [
    "original_list = [1,2,3,4,4,3,5]\n",
    "unique_list = [x for x in original_list if original_list.count(x)==1]\n",
    "print(unique_list)"
   ]
  },
  {
   "cell_type": "code",
   "execution_count": 6,
   "id": "01327b5f-87c0-47c5-bdf0-e1a12e4b1e9e",
   "metadata": {},
   "outputs": [
    {
     "name": "stdout",
     "output_type": "stream",
     "text": [
      "[1, 2, 3, 4, 5, 6, 7, 8, 9, 11, 22, 33, 44, 55, 66, 77, 88, 99, 101, 111, 121, 131, 141, 151, 161, 171, 181, 191, 202, 212, 222, 232, 242, 252, 262, 272, 282, 292, 303, 313, 323, 333, 343, 353, 363, 373, 383, 393, 404, 414, 424, 434, 444, 454, 464, 474, 484, 494, 505, 515, 525, 535, 545, 555, 565, 575, 585, 595, 606, 616, 626, 636, 646, 656, 666, 676, 686, 696, 707, 717, 727, 737, 747, 757, 767, 777, 787, 797, 808, 818, 828, 838, 848, 858, 868, 878, 888, 898, 909, 919, 929, 939, 949, 959, 969, 979, 989, 999]\n"
     ]
    }
   ],
   "source": [
    "def is_polindrome(number):\n",
    "        return str(number) == str(number)[::-1]\n",
    "\n",
    "\n",
    "limit = 1000\n",
    "    \n",
    "polindrome_number = [num for num in range(1, limit+1) if is_polindrome(num)]\n",
    "print(polindrome_number)"
   ]
  },
  {
   "cell_type": "code",
   "execution_count": 7,
   "id": "053ebdce-7b98-426b-ad40-ede373bbffce",
   "metadata": {},
   "outputs": [
    {
     "name": "stdout",
     "output_type": "stream",
     "text": [
      "[2, 3, 4, 2, 7, 1, 8, 7]\n"
     ]
    }
   ],
   "source": [
    "nested_list = [[2,3,4], [2,7], [1,8,7]]\n",
    "flattened_list = [element for sublist in nested_list for element in sublist]\n",
    "print(flattened_list)"
   ]
  },
  {
   "cell_type": "code",
   "execution_count": 8,
   "id": "d0ce25c1-e3b1-4414-8d8d-3adba24e3553",
   "metadata": {},
   "outputs": [
    {
     "name": "stdout",
     "output_type": "stream",
     "text": [
      "28\n",
      "24\n"
     ]
    }
   ],
   "source": [
    "lst = [2,3,4,5,6,7,8,8,9]\n",
    "sum_of_even = sum([x for x in lst if x % 2 ==0])\n",
    "sum_of_odd = sum([x for x in lst if x % 2 !=0])\n",
    "print(sum_of_even)\n",
    "print(sum_of_odd)"
   ]
  },
  {
   "cell_type": "code",
   "execution_count": 9,
   "id": "369eaebf-d7ed-4c7b-9663-e53ac8e11b2d",
   "metadata": {},
   "outputs": [
    {
     "name": "stdout",
     "output_type": "stream",
     "text": [
      "[1, 9, 25, 49, 81]\n"
     ]
    }
   ],
   "source": [
    "limit = 10\n",
    "square_of_odd_numbers = [x ** 2 for x in range(1, 11) if x % 2 !=0]\n",
    "print(square_of_odd_numbers)"
   ]
  },
  {
   "cell_type": "code",
   "execution_count": 13,
   "id": "ab2b982d-ec6b-4fff-bbb7-2cb80afbb4c0",
   "metadata": {},
   "outputs": [
    {
     "name": "stdout",
     "output_type": "stream",
     "text": [
      "{'a': 2, 'b': 3, 'c': 4, 'd': 5}\n"
     ]
    }
   ],
   "source": [
    "keys = [\"a\", \"b\", \"c\", \"d\"]\n",
    "values = [2,3,4,5]\n",
    "combined_dict = {key:value for key,value in zip(keys,values)}\n",
    "print(combined_dict)"
   ]
  },
  {
   "cell_type": "code",
   "execution_count": 14,
   "id": "28089b0e-847f-4226-a117-c4b96083140c",
   "metadata": {},
   "outputs": [
    {
     "name": "stdout",
     "output_type": "stream",
     "text": [
      "['123', '456', '7890', '123']\n"
     ]
    }
   ],
   "source": [
    "string_list = [\"abc123\",\"456xyz\",\"789-0\",\"1.2.3\"]\n",
    "numeric_string = [''.join(filter(str.isdigit, s)) for s in string_list]\n",
    "print(numeric_string)"
   ]
  },
  {
   "cell_type": "code",
   "execution_count": 15,
   "id": "80ad0348-58a3-4311-aac4-44d4f9a95661",
   "metadata": {},
   "outputs": [
    {
     "name": "stdout",
     "output_type": "stream",
     "text": [
      "[(30, 40, 50), (15, 20, 25), (6, 8, 10), (15, 36, 39), (27, 36, 45), (9, 40, 41), (10, 24, 26), (8, 15, 17), (9, 12, 15), (14, 48, 50), (12, 35, 37), (16, 30, 34), (5, 12, 13), (21, 28, 35), (18, 24, 30), (12, 16, 20), (20, 21, 29), (3, 4, 5), (24, 32, 40), (7, 24, 25)]\n"
     ]
    }
   ],
   "source": [
    "limit = 50\n",
    "pythagorean_triplets = [(a,b,c)\n",
    "                        for a in range(1, limit+1)\n",
    "                        for  b in range(a, limit+1)\n",
    "                        for c in range(b, limit+1)\n",
    "                        if a**2 + b**2 == c**2\n",
    "                       ]\n",
    "unique_triplets = set(tuple(sorted(triplet)) for triplet in pythagorean_triplets)\n",
    "print(list(unique_triplets))"
   ]
  },
  {
   "cell_type": "code",
   "execution_count": 16,
   "id": "de155ee8-6141-4ba0-ae03-4dfdef0e31c5",
   "metadata": {},
   "outputs": [
    {
     "name": "stdout",
     "output_type": "stream",
     "text": [
      "[('a', 4), ('a', 5), ('a', 6), ('a', 7), ('b', 4), ('b', 5), ('b', 6), ('b', 7), ('c', 4), ('c', 5), ('c', 6), ('c', 7), ('d', 4), ('d', 5), ('d', 6), ('d', 7)]\n"
     ]
    }
   ],
   "source": [
    "list1 = ['a', 'b', 'c', 'd']\n",
    "list2 = [4,5,6,7]\n",
    "combined_list = [(x,y) for x in list1 for y in list2]\n",
    "print(combined_list)"
   ]
  },
  {
   "cell_type": "code",
   "execution_count": 21,
   "id": "60e1a832-2848-4a3c-b3d2-28b37d5bca40",
   "metadata": {},
   "outputs": [
    {
     "name": "stdout",
     "output_type": "stream",
     "text": [
      "Mean: 2.7777777777777777\n",
      "Median: 3\n",
      "Mode: 1\n"
     ]
    }
   ],
   "source": [
    "from statistics import median,mode\n",
    "numbers = [1,2,3,4,5,4,3,2,1]\n",
    "mean = sum(numbers)/len(numbers)\n",
    "median_value = median(numbers)\n",
    "mode_value = mode(numbers)\n",
    "\n",
    "print(\"Mean:\", mean)\n",
    "print(\"Median:\", median_value)\n",
    "print(\"Mode:\", mode_value)"
   ]
  },
  {
   "cell_type": "code",
   "execution_count": 22,
   "id": "96645827-f649-429a-a575-6a317e213be5",
   "metadata": {},
   "outputs": [
    {
     "name": "stdout",
     "output_type": "stream",
     "text": [
      "[1]\n",
      "[1, 1]\n",
      "[1, 2, 1]\n",
      "[1, 3, 3, 1]\n",
      "[1, 4, 6, 4, 1]\n"
     ]
    }
   ],
   "source": [
    "def generate_next_row(previous_row):\n",
    "    return [1] + [previous_row[i] + previous_row[i + 1] for i in range(len(previous_row) - 1)] + [1]\n",
    "\n",
    "num_rows = 5\n",
    "\n",
    "pascals_triangle = [[1]]\n",
    "[pascals_triangle.append(generate_next_row(pascals_triangle[-1])) for _ in range(num_rows - 1)]\n",
    "\n",
    "for row in pascals_triangle:\n",
    "    print(row)"
   ]
  },
  {
   "cell_type": "code",
   "execution_count": 23,
   "id": "70fa1482-c3ac-44d5-b157-4baa8de22b36",
   "metadata": {},
   "outputs": [
    {
     "name": "stdout",
     "output_type": "stream",
     "text": [
      "[1, 2, 6, 6, 3]\n"
     ]
    }
   ],
   "source": [
    "def factorial(n):\n",
    "    if n == 0:\n",
    "        return 1\n",
    "    else:\n",
    "        return n * factorial(n - 1)\n",
    "    \n",
    "    \n",
    "result = [sum(int(digit) for digit in str(factorial(i))) for i in range(1, 6)]\n",
    "print(result)"
   ]
  },
  {
   "cell_type": "code",
   "execution_count": 24,
   "id": "44857992-c27e-4d1c-a53e-31113d74f64e",
   "metadata": {},
   "outputs": [
    {
     "name": "stdin",
     "output_type": "stream",
     "text": [
      "enter a sentence This is my first python class\n"
     ]
    },
    {
     "name": "stdout",
     "output_type": "stream",
     "text": [
      "python\n"
     ]
    }
   ],
   "source": [
    "sentence = input(\"enter a sentence\")\n",
    "words = sentence.split()\n",
    "longest_word = max((word for word in words), key=len)\n",
    "print(longest_word)"
   ]
  },
  {
   "cell_type": "code",
   "execution_count": 28,
   "id": "3aaeba38-c63b-4192-8cdd-0bf7c9468834",
   "metadata": {},
   "outputs": [
    {
     "name": "stdout",
     "output_type": "stream",
     "text": [
      "Strings with more than three vowels: []\n"
     ]
    }
   ],
   "source": [
    "def count_vowels(string):\n",
    "    vowels = \"AEIOUaeiou\"\n",
    "    return sum(1 for char in string if char in vowels)\n",
    "\n",
    "string_list = [\"apple\",\"banana\",\"cherry\",\"date\",\"elephant\",\"fig\"]\n",
    "\n",
    "filtered_list = [string for string in string_list if count_vowels(string) > 3]\n",
    "print(\"Strings with more than three vowels:\",filtered_list)"
   ]
  },
  {
   "cell_type": "code",
   "execution_count": 29,
   "id": "790a6e1e-29e8-42d4-bd27-2dc205ef1038",
   "metadata": {},
   "outputs": [
    {
     "name": "stdout",
     "output_type": "stream",
     "text": [
      "The sum of digits for numbers from 1 to 1000 is: 13501\n"
     ]
    }
   ],
   "source": [
    "def sum_of_digits(number):\n",
    "    return sum(int(digit)for digit in str(number))\n",
    "\n",
    "sums = [sum_of_digits(number) for number in range(1, 1001)]\n",
    "total_sum = sum(sums)\n",
    "print(\"The sum of digits for numbers from 1 to 1000 is:\", total_sum)"
   ]
  },
  {
   "cell_type": "code",
   "execution_count": 30,
   "id": "530e0bce-7e1d-43ca-93f1-962c0c764d72",
   "metadata": {},
   "outputs": [
    {
     "name": "stdout",
     "output_type": "stream",
     "text": [
      "[11, 101, 131, 151, 181, 191, 313, 353, 373, 383, 727, 757, 787, 797, 919, 929]\n"
     ]
    }
   ],
   "source": [
    "def is_prime(n):\n",
    "    if n<=1:\n",
    "        return False\n",
    "    if n<=3:\n",
    "        return True\n",
    "    if n % 2 ==0 or n % 3 ==0:\n",
    "        return False\n",
    "    i = 5\n",
    "    while i*i <= n:\n",
    "        if n%i ==0 or n % (i+2)==0:\n",
    "            return False\n",
    "        i +=6\n",
    "    return True\n",
    "\n",
    "prime_palindromes = [ n for n in range(10, 1000) if is_prime(n) and str(n) == str(n)[::-1]]\n",
    "print(prime_palindromes)"
   ]
  },
  {
   "cell_type": "code",
   "execution_count": null,
   "id": "4fa57f48-992d-4b0c-b0d5-89d8ba781e2c",
   "metadata": {},
   "outputs": [],
   "source": []
  }
 ],
 "metadata": {
  "kernelspec": {
   "display_name": "Python 3 (ipykernel)",
   "language": "python",
   "name": "python3"
  },
  "language_info": {
   "codemirror_mode": {
    "name": "ipython",
    "version": 3
   },
   "file_extension": ".py",
   "mimetype": "text/x-python",
   "name": "python",
   "nbconvert_exporter": "python",
   "pygments_lexer": "ipython3",
   "version": "3.10.8"
  }
 },
 "nbformat": 4,
 "nbformat_minor": 5
}
